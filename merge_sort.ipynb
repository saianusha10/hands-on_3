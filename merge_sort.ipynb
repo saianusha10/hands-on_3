{
  "nbformat": 4,
  "nbformat_minor": 0,
  "metadata": {
    "colab": {
      "provenance": [],
      "authorship_tag": "ABX9TyOEzRJWWkZR21H4zp2IM89i",
      "include_colab_link": true
    },
    "kernelspec": {
      "name": "python3",
      "display_name": "Python 3"
    },
    "language_info": {
      "name": "python"
    }
  },
  "cells": [
    {
      "cell_type": "markdown",
      "metadata": {
        "id": "view-in-github",
        "colab_type": "text"
      },
      "source": [
        "<a href=\"https://colab.research.google.com/github/saianusha10/hands-on_3/blob/main/merge_sort.ipynb\" target=\"_parent\"><img src=\"https://colab.research.google.com/assets/colab-badge.svg\" alt=\"Open In Colab\"/></a>"
      ]
    },
    {
      "cell_type": "code",
      "execution_count": 1,
      "metadata": {
        "colab": {
          "base_uri": "https://localhost:8080/"
        },
        "id": "e_6dTARjC7f9",
        "outputId": "d0cbde06-3a1a-441c-bc6e-c965e080f0eb"
      },
      "outputs": [
        {
          "output_type": "stream",
          "name": "stdout",
          "text": [
            "[1, 2, 2, 3, 4, 5, 6, 7]\n"
          ]
        }
      ],
      "source": [
        "def merge_sort(array):\n",
        "    if len(array) > 1:\n",
        "        mid = len(array) // 2\n",
        "        left_array = array[:mid]\n",
        "        right_array = array[mid:]\n",
        "\n",
        "        merge_sort(left_array)\n",
        "        merge_sort(right_array)\n",
        "\n",
        "        i = j = k = 0\n",
        "        while i < len(left_array) and j < len(right_array):\n",
        "            if left_array[i] < right_array[j]:\n",
        "                array[k] = left_array[i]\n",
        "                i += 1\n",
        "            else:\n",
        "                array[k] = right_array[j]\n",
        "                j += 1\n",
        "            k += 1\n",
        "\n",
        "        while i < len(left_array):\n",
        "            array[k] = left_array[i]\n",
        "            i += 1\n",
        "            k += 1\n",
        "\n",
        "        while j < len(right_array):\n",
        "            array[k] = right_array[j]\n",
        "            j += 1\n",
        "            k += 1\n",
        "\n",
        "array = [5, 2, 4, 7, 1, 3, 2, 6]\n",
        "merge_sort(array)\n",
        "print(array)\n"
      ]
    }
  ]
}